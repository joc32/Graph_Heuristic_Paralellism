{
 "cells": [
  {
   "cell_type": "markdown",
   "metadata": {},
   "source": [
    "# Parallel computation of NetworkX Graph Heuristics for Link Prediction"
   ]
  },
  {
   "cell_type": "code",
   "execution_count": null,
   "metadata": {},
   "outputs": [],
   "source": [
    "!pip3 install networkx\n",
    "!pip3 install numpy\n",
    "!pip3 install pandas\n",
    "!pip3 install matplotlib\n",
    "!pip3 install sklearn\n",
    "!pip3 install tqdm\n",
    "!pip3 install seaborn"
   ]
  },
  {
   "cell_type": "code",
   "execution_count": 2,
   "metadata": {},
   "outputs": [],
   "source": [
    "import numpy as np\n",
    "import matplotlib.pyplot as plt\n",
    "import seaborn as sns\n",
    "import networkx as nx\n",
    "import time\n",
    "import random\n",
    "from tqdm import tqdm\n",
    "plt.style.use('ggplot')\n",
    "\n",
    "import multiprocessing as mp\n",
    "from multiprocessing import Pool\n",
    "from sklearn.metrics import roc_curve, roc_auc_score,confusion_matrix"
   ]
  },
  {
   "cell_type": "code",
   "execution_count": 3,
   "metadata": {},
   "outputs": [
    {
     "output_type": "stream",
     "name": "stdout",
     "text": [
      "You have 8 Number of CPU cores available\n"
     ]
    }
   ],
   "source": [
    "# Shows the number of available cores. \n",
    "# It is recommended to leave at least 1 or 2 cores for other non-task specific routines\n",
    "print('You have', mp.cpu_count(),'Number of CPU cores available')\n",
    "N_CORES_TO_USE = 14"
   ]
  },
  {
   "cell_type": "code",
   "execution_count": 4,
   "metadata": {},
   "outputs": [
    {
     "output_type": "stream",
     "name": "stdout",
     "text": [
      "Testing split done.\nTraining split done.\n"
     ]
    }
   ],
   "source": [
    "# Load a graph into networkX object. In this notebook the graph is already pickled in graph pickle object. \n",
    "Graph = nx.read_gpickle('./datasets/power.gpickle')\n",
    "t1 = time.time()\n",
    "\n",
    "# Fraction of edges you want to remove from the training dataset. Imagine it being like train-test split.\n",
    "proportion_edges = 0.10\n",
    "\n",
    "# Select this fraction of edges from the main graph by sampling from the graph.\n",
    "edge_subset = random.sample(Graph.edges(), int(proportion_edges * Graph.number_of_edges()))\n",
    "print('Testing split done.')\n",
    "train = Graph.copy()\n",
    "\n",
    "# Remove these edges from the dataset and thus create the training split.\n",
    "train.remove_edges_from(edge_subset)\n",
    "print('Training split done.')"
   ]
  },
  {
   "cell_type": "code",
   "execution_count": 214,
   "metadata": {},
   "outputs": [
    {
     "name": "stderr",
     "output_type": "stream",
     "text": [
      "52862931it [00:25, 2112292.55it/s]\n",
      "100%|██████████| 33398/33398 [00:00<00:00, 1147746.93it/s]\n"
     ]
    }
   ],
   "source": [
    "# Return non-existent edges from the graph. Convert it to a Pythonic list from NetworkX iterator. \n",
    "list_of_non_edges = nx.non_edges(train)\n",
    "non_edges = []\n",
    "for start,end in tqdm(list_of_non_edges):\n",
    "    non_edges.append((start,end))\n",
    "    \n",
    "# Transform the list of non_edges to a dictionary to reduce the algorithm's complexity from O**2 to O\n",
    "# As lookup in dictionary is O(1) rather than looking up in a list O(O**2).\n",
    "edge_subset_dict = {}\n",
    "for x, y in tqdm(edge_subset):\n",
    "    edge_subset_dict.setdefault(x, []).append(y)"
   ]
  },
  {
   "cell_type": "code",
   "execution_count": 215,
   "metadata": {},
   "outputs": [],
   "source": [
    "# Split the array into N_CORES_TO_USE splits which will be placed into N_CORES_TO_USE cores.\n",
    "split_arrays = np.array_split(np.array(non_edges), N_CORES_TO_USE)"
   ]
  },
  {
   "cell_type": "code",
   "execution_count": 216,
   "metadata": {},
   "outputs": [
    {
     "data": {
      "text/plain": [
       "('Number of distinct nodes and edges', 10312, 300585)"
      ]
     },
     "execution_count": 216,
     "metadata": {},
     "output_type": "execute_result"
    }
   ],
   "source": [
    "'Number of distinct nodes and edges', train.number_of_nodes(), train.number_of_edges()"
   ]
  },
  {
   "cell_type": "code",
   "execution_count": 217,
   "metadata": {},
   "outputs": [
    {
     "data": {
      "text/plain": [
       "('Number of non existent edges in the graph is', 52862931)"
      ]
     },
     "execution_count": 217,
     "metadata": {},
     "output_type": "execute_result"
    }
   ],
   "source": [
    "'Number of non existent edges in the graph is', len(non_edges)"
   ]
  },
  {
   "cell_type": "code",
   "execution_count": 218,
   "metadata": {},
   "outputs": [],
   "source": [
    "# Create multiprocessing-specific structure 'Manager' and 'return_list'\n",
    "manager = mp.Manager()\n",
    "return_list = manager.list()"
   ]
  },
  {
   "cell_type": "code",
   "execution_count": 219,
   "metadata": {},
   "outputs": [],
   "source": [
    "# The algorithm was tested on the following 4 heuristics of Networkx library.\n",
    "# resource_allocation_index, jaccard_coefficient, adamic_adar_index, preferential_attachment\n",
    "heuristics = {'RA':nx.resource_allocation_index,\n",
    "              'JI':nx.jaccard_coefficient,\n",
    "              'AA':nx.adamic_adar_index,\n",
    "              'PA':nx.preferential_attachment}\n",
    "\n",
    "chosen_heur = heuristics['RA']"
   ]
  },
  {
   "cell_type": "code",
   "execution_count": 220,
   "metadata": {},
   "outputs": [],
   "source": [
    "# Function which is executed by each core on each of the splits\n",
    "# Calculate the predictions using the heuristic\n",
    "# and evaluate if the predicted key-value pairs are in the test split.\n",
    "def predict_get_scores(Graph, heur, split, return_list, edge_subset):\n",
    "    predictions = heur(Graph, split)    \n",
    "    scores, labels = [],[]\n",
    "    for (start,end,value) in tqdm(predictions):\n",
    "        try:\n",
    "            # Check if the predicted key-value pair is in the test split.\n",
    "            connected_nodes = edge_subset.get(start)\n",
    "            label = end in connected_nodes\n",
    "        except:\n",
    "            # If not in the test subset assign label to False, otherwise True.\n",
    "            label=False\n",
    "        scores.append(value)\n",
    "        labels.append(label)\n",
    "    return_list.append([scores,labels])"
   ]
  },
  {
   "cell_type": "code",
   "execution_count": 221,
   "metadata": {
    "scrolled": true
   },
   "outputs": [
    {
     "name": "stderr",
     "output_type": "stream",
     "text": [
      "10129it [00:00, 24426.10it/s]"
     ]
    },
    {
     "name": "stdout",
     "output_type": "stream",
     "text": [
      "Joining Processess, Performing Computation\n"
     ]
    },
    {
     "name": "stderr",
     "output_type": "stream",
     "text": [
      "3775923it [06:21, 9903.04it/s] \n",
      "3775924it [07:15, 8678.83it/s]]\n",
      "3775923it [07:16, 8656.76it/s] \n",
      "3775924it [07:16, 8649.51it/s] \n",
      "3775924it [07:27, 8444.19it/s] \n",
      "3775924it [07:27, 8445.66it/s] \n",
      "3775923it [07:27, 8428.87it/s] \n",
      "3775924it [08:17, 7596.02it/s]]\n",
      "3775924it [08:23, 7494.49it/s] \n",
      "3775924it [08:27, 7447.29it/s]]\n",
      "3775923it [08:33, 7350.66it/s] \n",
      "3775923it [08:36, 7311.45it/s] \n",
      "3775924it [09:32, 6594.69it/s] \n",
      "3775924it [10:07, 6217.83it/s] \n"
     ]
    },
    {
     "name": "stdout",
     "output_type": "stream",
     "text": [
      "Processing done, returning list\n",
      "Took 613.2993319034576 seconds\n"
     ]
    }
   ],
   "source": [
    "# Create the processess which are waiting to be executed. \n",
    "# Monitor your CPU & RAM usage in a Linux shell by running 'top' command.\n",
    "starttime = time.time()\n",
    "processes = [None for i in range(N_CORES_TO_USE)]\n",
    "\n",
    "for i in range(N_CORES_TO_USE):\n",
    "    processes[i] = mp.Process(target=predict_get_scores, \n",
    "                              args=(train, \n",
    "                                    chosen_heur, \n",
    "                                    split_arrays[i], \n",
    "                                    return_list, \n",
    "                                    edge_subset_dict))\n",
    "    processes[i].start()\n",
    "    \n",
    "# Join the processess.\n",
    "print('Joining Processess, Performing Computation')\n",
    "    \n",
    "for process in processes:\n",
    "    process.join()\n",
    "    \n",
    "print('Processing done, returning list')\n",
    "\n",
    "# Return the list of predictions.\n",
    "y = return_list._getvalue()\n",
    "print('Took {} seconds'.format(time.time() - starttime))"
   ]
  },
  {
   "cell_type": "code",
   "execution_count": 222,
   "metadata": {},
   "outputs": [],
   "source": [
    "# Convert the array to a numpy array for further numpy routines.\n",
    "f = np.array(y, dtype='object')\n",
    "scores,labels = f.T\n",
    "scores = np.concatenate(scores,axis=0)\n",
    "labels = np.concatenate(labels,axis=0)"
   ]
  },
  {
   "cell_type": "code",
   "execution_count": 223,
   "metadata": {},
   "outputs": [],
   "source": [
    "# Extract False and True positive rate from the list of labels and scores.\n",
    "fpr, tpr, _ = roc_curve(labels, scores)\n",
    "# Get AUC of ROC curve.\n",
    "auc = roc_auc_score(labels, scores)"
   ]
  },
  {
   "cell_type": "code",
   "execution_count": 224,
   "metadata": {},
   "outputs": [],
   "source": [
    "# Binarise the predictions with 0.5 treshold. \n",
    "binarised = np.where(np.array(scores)>0.5, 1, 0)\n",
    "# Compute the Confusion Matrix, which can take a lot of time\n",
    "cm = confusion_matrix(labels, binarised)"
   ]
  },
  {
   "cell_type": "code",
   "execution_count": 225,
   "metadata": {},
   "outputs": [
    {
     "data": {
      "image/png": "[encoded data removed]",
      "text/plain": [
       "<Figure size 1440x504 with 3 Axes>"
      ]
     },
     "metadata": {},
     "output_type": "display_data"
    }
   ],
   "source": [
    "# Plot the ROC curve and Confusion Matrix\n",
    "\n",
    "fig, (ax1, ax2) = plt.subplots(1,2)\n",
    "fig.set_figheight(7)\n",
    "fig.set_figwidth(20)\n",
    "sns.lineplot(x=fpr,y=tpr, ax=ax1,ci=None)\n",
    "ax1.set_title(\"{0} {1} {2} {3}\".format('ROC Curve for', chosen_heur.__name__, '- AUC:',str(auc)[:5]))\n",
    "ax1.set_ylabel('True Positive Rate')\n",
    "ax1.set_xlabel('False Positive Rate')\n",
    "sns.heatmap(cm, ax=ax2,annot=True, fmt='0.1f')\n",
    "ax2.set_title(\"{0} {1}\".format('Confusion Matrix for', chosen_heur.__name__))\n",
    "ax2.set_xlabel('Ground Truth')\n",
    "ax2.set_ylabel('Predicted Values')\n",
    "plt.show()"
   ]
  }
 ],
 "metadata": {
  "kernelspec": {
   "display_name": "Python 3.6.4 64-bit ('local')",
   "language": "python",
   "name": "python364jvsc74a57bd0aee8b7b246df8f9039afb4144a1f6fd8d2ca17a180786b69acc140d282b71a49"
  },
  "language_info": {
   "codemirror_mode": {
    "name": "ipython",
    "version": 3
   },
   "file_extension": ".py",
   "mimetype": "text/x-python",
   "name": "python",
   "nbconvert_exporter": "python",
   "pygments_lexer": "ipython3",
   "version": "3.6.4"
  }
 },
 "nbformat": 4,
 "nbformat_minor": 4
}